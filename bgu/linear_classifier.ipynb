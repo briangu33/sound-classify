{
 "cells": [
  {
   "cell_type": "code",
   "execution_count": 6,
   "metadata": {},
   "outputs": [],
   "source": [
    "import librosa\n",
    "import tensorflow\n",
    "import numpy as np\n",
    "import parse_samples"
   ]
  },
  {
   "cell_type": "code",
   "execution_count": 7,
   "metadata": {},
   "outputs": [],
   "source": [
    "def get_feature_vector(audio_path, n_mels=256):\n",
    "    y, sr = librosa.load(audio_path)\n",
    "    \n",
    "    # Let's make and display a mel-scaled power (energy-squared) spectrogram\n",
    "    S = librosa.feature.melspectrogram(y, sr=sr, n_mels=n_mels)\n",
    "    timesteps = len(S[0])\n",
    "\n",
    "    # Convert to log scale (dB). We'll use the peak power as reference.\n",
    "    log_S = librosa.logamplitude(S, ref_power=np.max)\n",
    "    sum_log_S = np.sum(log_S, axis=1) \n",
    "    max_ind = np.argmax(sum_log_S)\n",
    "    pad_sum_log_S = np.pad(sum_log_S, (n_mels - 1 - max_ind, max_ind), 'constant', constant_values=(-80 * timesteps, -80 * timesteps))\n",
    "    pad_sum_log_S_norm = pad_sum_log_S + 80 * timesteps\n",
    "    pad_sum_log_S_norm = pad_sum_log_S_norm / pad_sum_log_S_norm[n_mels - 1]\n",
    "    pad_sum_log_S_norm = pad_sum_log_S_norm[n_mels - 1:]\n",
    "    \n",
    "    return pad_sum_log_S_norm"
   ]
  },
  {
   "cell_type": "code",
   "execution_count": 11,
   "metadata": {},
   "outputs": [
    {
     "name": "stdout",
     "output_type": "stream",
     "text": [
      "878\n",
      "1502\n",
      "Getting flute samples...\n",
      "50\n",
      "100\n",
      "150\n",
      "200\n",
      "250\n",
      "300\n",
      "350\n",
      "400\n",
      "450\n",
      "500\n",
      "550\n",
      "600\n",
      "650\n",
      "700\n",
      "750\n",
      "800\n",
      "850\n",
      "Getting violin samples...\n",
      "900\n",
      "950\n",
      "1000\n",
      "1050\n",
      "1100\n",
      "1150\n",
      "1200\n",
      "1250\n",
      "1300\n",
      "1350\n",
      "1400\n",
      "1450\n",
      "1500\n",
      "1550\n",
      "1600\n",
      "1650\n",
      "1700\n",
      "1750\n",
      "1800\n",
      "1850\n",
      "1900\n",
      "1950\n",
      "2000\n",
      "2050\n",
      "2100\n",
      "2150\n",
      "2200\n",
      "2250\n",
      "2300\n",
      "2350\n",
      "Done.\n"
     ]
    }
   ],
   "source": [
    "flute_samples = parse_samples.get_flute_samples()\n",
    "print(len(flute_samples))\n",
    "violin_samples = parse_samples.get_violin_samples()\n",
    "print(len(violin_samples))\n",
    "\n",
    "data = []\n",
    "\n",
    "print(\"Getting flute samples...\")\n",
    "for flute_sample in flute_samples:\n",
    "    data += [(get_feature_vector(flute_sample.filename), -1)]\n",
    "    if len(data) % 50 == 0:\n",
    "        print(len(data))\n",
    "    \n",
    "print(\"Getting violin samples...\")\n",
    "for violin_sample in violin_samples:\n",
    "    data += [(get_feature_vector(violin_sample.filename), 1)]\n",
    "    if len(data) % 50 == 0:\n",
    "        print(len(data))\n",
    "    \n",
    "print(\"Done.\")"
   ]
  },
  {
   "cell_type": "code",
   "execution_count": 12,
   "metadata": {
    "collapsed": true
   },
   "outputs": [],
   "source": [
    "np.random.shuffle(data)\n",
    "train_data = data[:1600]\n",
    "test_data = data[1600:]"
   ]
  },
  {
   "cell_type": "code",
   "execution_count": 15,
   "metadata": {
    "collapsed": true
   },
   "outputs": [],
   "source": [
    "x_train = []\n",
    "x_test = []\n",
    "y_train = []\n",
    "y_test = []\n",
    "for sample in train_data:\n",
    "    x_train += [sample[0]]\n",
    "    y_train += [sample[1]]\n",
    "for sample in test_data:\n",
    "    x_test += [sample[0]]\n",
    "    y_test += [sample[1]]"
   ]
  },
  {
   "cell_type": "code",
   "execution_count": 17,
   "metadata": {},
   "outputs": [
    {
     "data": {
      "text/plain": [
       "SVC(C=1.0, cache_size=200, class_weight=None, coef0=0.0,\n",
       "  decision_function_shape='ovr', degree=3, gamma='auto', kernel='rbf',\n",
       "  max_iter=-1, probability=False, random_state=None, shrinking=True,\n",
       "  tol=0.001, verbose=False)"
      ]
     },
     "execution_count": 17,
     "metadata": {},
     "output_type": "execute_result"
    }
   ],
   "source": [
    "import sklearn\n",
    "from sklearn.svm import SVC\n",
    "\n",
    "model = SVC()\n",
    "model.fit(x_train, y_train)"
   ]
  },
  {
   "cell_type": "code",
   "execution_count": 19,
   "metadata": {},
   "outputs": [
    {
     "name": "stdout",
     "output_type": "stream",
     "text": [
      "576.0\n",
      "780.0\n"
     ]
    }
   ],
   "source": [
    "total = 0.\n",
    "correct = 0.\n",
    "for (x, y) in zip(x_test, y_test):\n",
    "    if model.predict([x]) == y:\n",
    "        correct += 1\n",
    "    total += 1\n",
    "print(correct)\n",
    "print(total)"
   ]
  },
  {
   "cell_type": "code",
   "execution_count": null,
   "metadata": {
    "collapsed": true
   },
   "outputs": [],
   "source": []
  }
 ],
 "metadata": {
  "kernelspec": {
   "display_name": "Python [default]",
   "language": "python",
   "name": "python3"
  },
  "language_info": {
   "codemirror_mode": {
    "name": "ipython",
    "version": 3
   },
   "file_extension": ".py",
   "mimetype": "text/x-python",
   "name": "python",
   "nbconvert_exporter": "python",
   "pygments_lexer": "ipython3",
   "version": "3.6.2"
  }
 },
 "nbformat": 4,
 "nbformat_minor": 2
}
