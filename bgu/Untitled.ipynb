{
 "cells": [
  {
   "cell_type": "code",
   "execution_count": 1,
   "metadata": {},
   "outputs": [],
   "source": [
    "import librosa\n",
    "import tensorflow\n",
    "\n",
    "from os import listdir"
   ]
  },
  {
   "cell_type": "code",
   "execution_count": 2,
   "metadata": {},
   "outputs": [],
   "source": [
    "def get_feature_vector(audio_path, n_mels=256):\n",
    "    y, sr = librosa.load(audio_path)\n",
    "    \n",
    "    # Let's make and display a mel-scaled power (energy-squared) spectrogram\n",
    "    S = librosa.feature.melspectrogram(y, sr=sr, n_mels=n_mels)\n",
    "    timesteps = len(log_S[0])\n",
    "\n",
    "    # Convert to log scale (dB). We'll use the peak power as reference.\n",
    "    log_S = librosa.logamplitude(S, ref_power=np.max)\n",
    "    sum_log_S = np.sum(log_S, axis=1) \n",
    "    max_ind = np.argmax(sum_log_S)\n",
    "    pad_sum_log_S = np.pad(sum_log_S, (n_mels - 1 - max_ind, max_ind), 'constant', constant_values=(-80 * timesteps, -80 * timesteps))\n",
    "    pad_sum_log_S_norm = pad_sum_log_S + 80 * timesteps\n",
    "    pad_sum_log_S_norm = pad_sum_log_S_norm / pad_sum_log_S_norm[n_mels - 1]\n",
    "    pad_sum_log_S_norm = pad_sum_log_S_norm[n_mels - 1:]\n",
    "    \n",
    "    return pad_sum_log_S_norm"
   ]
  },
  {
   "cell_type": "code",
   "execution_count": null,
   "metadata": {
    "collapsed": true
   },
   "outputs": [],
   "source": []
  }
 ],
 "metadata": {
  "kernelspec": {
   "display_name": "Python [default]",
   "language": "python",
   "name": "python3"
  },
  "language_info": {
   "codemirror_mode": {
    "name": "ipython",
    "version": 3
   },
   "file_extension": ".py",
   "mimetype": "text/x-python",
   "name": "python",
   "nbconvert_exporter": "python",
   "pygments_lexer": "ipython3",
   "version": "3.6.2"
  }
 },
 "nbformat": 4,
 "nbformat_minor": 2
}
